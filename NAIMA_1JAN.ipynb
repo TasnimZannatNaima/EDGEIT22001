{
  "nbformat": 4,
  "nbformat_minor": 0,
  "metadata": {
    "colab": {
      "provenance": [],
      "authorship_tag": "ABX9TyNpw1bkF4orZCpedXF+8KOd",
      "include_colab_link": true
    },
    "kernelspec": {
      "name": "python3",
      "display_name": "Python 3"
    },
    "language_info": {
      "name": "python"
    }
  },
  "cells": [
    {
      "cell_type": "markdown",
      "metadata": {
        "id": "view-in-github",
        "colab_type": "text"
      },
      "source": [
        "<a href=\"https://colab.research.google.com/github/TasnimZannatNaima/EDGEIT22001/blob/main/NAIMA_1JAN.ipynb\" target=\"_parent\"><img src=\"https://colab.research.google.com/assets/colab-badge.svg\" alt=\"Open In Colab\"/></a>"
      ]
    },
    {
      "cell_type": "markdown",
      "source": [
        "**All functions: Math Module\n",
        "**"
      ],
      "metadata": {
        "id": "x0asnbo7VOI2"
      }
    },
    {
      "cell_type": "markdown",
      "source": [
        "**1.Built-in Math Functions**"
      ],
      "metadata": {
        "id": "hjrQxhqMVw3t"
      }
    },
    {
      "cell_type": "code",
      "source": [
        "x = min(5, 10, 25)\n",
        "y = max(5, 10, 25)\n",
        "z = abs(-7.25)\n",
        "a = pow(4, 3)\n",
        "\n",
        "print(x)\n",
        "print(x)\n",
        "print(y)\n",
        "print(a)"
      ],
      "metadata": {
        "id": "rBtLQyC3VcrY"
      },
      "execution_count": null,
      "outputs": []
    },
    {
      "cell_type": "markdown",
      "source": [
        "**2.The Math Module**"
      ],
      "metadata": {
        "id": "DVp4GIg2WVjF"
      }
    },
    {
      "cell_type": "code",
      "execution_count": null,
      "metadata": {
        "id": "0JAMqvt2VAL8"
      },
      "outputs": [],
      "source": [
        "import math\n",
        "\n",
        "a = math.sqrt(64)\n",
        "b = math.ceil(1.4)\n",
        "c = math.floor(1.4)\n",
        "d = math.pi\n",
        "\n",
        "print(a)\n",
        "print(b) # returns 2\n",
        "print(c) # returns 1\n",
        "print(d)"
      ]
    },
    {
      "cell_type": "code",
      "source": [
        "\n",
        "from math import pi\n",
        "\n",
        "fraser = str(pi)\n",
        "\n",
        "\n",
        "print(fraser)"
      ],
      "metadata": {
        "id": "kFFPhpe8YkrP"
      },
      "execution_count": null,
      "outputs": []
    },
    {
      "cell_type": "code",
      "source": [
        "# prompt: python code print pi value 50 digit\n",
        "\n",
        "import decimal\n",
        "\n",
        "# Set the precision for decimal calculations\n",
        "decimal.getcontext().prec = 52  # Set precision to 52 digits (including the integer part)\n",
        "\n",
        "# Calculate pi using the decimal module\n",
        "pi_value = decimal.Decimal(str(decimal.Decimal(3.14159265358979323846264338327950288419716939937510)))\n",
        "\n",
        "# Format the output to display 50 decimal places\n",
        "formatted_pi = \"{:.50f}\".format(pi_value)\n",
        "formatted_pi\n",
        "\n",
        "\n",
        "from mpmath import mp\n",
        "\n",
        "def print_pi_to_n_digits(n):\n",
        "    # Set precision to n decimal places\n",
        "    mp.dps = n + 1  # Adding 1 to account for the \"3.\" before the decimals\n",
        "    # Return pi to n decimal places as a string\n",
        "    return str(mp.pi)\n",
        "\n",
        "\n",
        "\n",
        "print_pi_to_n_digits(50000000)\n",
        ""
      ],
      "metadata": {
        "id": "WQvnma2QZ0BV"
      },
      "execution_count": null,
      "outputs": []
    },
    {
      "cell_type": "code",
      "source": [
        "#Import math library\n",
        "import math\n",
        "#Floor and Ceiling\n",
        "print('The Floor and Ceiling value of 9.45 are:' + str(math.ceil(9.45)) + ', ' + str(math.floor(9.45)))\n",
        "\n",
        "#Copysign\n",
        "x = 94\n",
        "y = -27\n",
        "print('The value of x after copying the sign from y is: ' + str(math.copysign(x, y)))\n",
        "\n",
        "#Absolute\n",
        "print('Absolute value of -94 and 54 are: ' + str(math.fabs(-94)) + ', ' + str(math.fabs(54)))\n",
        "\n",
        "#Fsum & gcd\n",
        "my_list = [12, 9.25, 89, 3.02, -75.23, -7.2, 6.3]\n",
        "print('Sum of the elements of the list: ' + str(math.fsum(my_list)))\n",
        "print('The GCD of 24 and 56 : ' + str(math.gcd(24, 48)))\n",
        "\n",
        "#isnan\n",
        "x = float('nan')\n",
        "if math.isnan(x):\n",
        "   print('It is not a number')\n",
        "      #x = float('inf')\n",
        "\n",
        "#isinf\n",
        "y = 54\n",
        "if math.isinf(x):\n",
        "   print('It is Infinity')\n",
        "      #x is not a finite number\n",
        "print(math.isfinite(x))\n",
        "   #y is a finite number\n",
        "print(math.isfinite(y))"
      ],
      "metadata": {
        "id": "aF1oIRvLajds"
      },
      "execution_count": null,
      "outputs": []
    },
    {
      "cell_type": "code",
      "source": [
        "import math\n",
        "\n",
        "print (math.e)"
      ],
      "metadata": {
        "colab": {
          "base_uri": "https://localhost:8080/"
        },
        "id": "tnfQucxObD5G",
        "outputId": "30997aa8-d26c-46f9-8e01-c807cc980846"
      },
      "execution_count": 1,
      "outputs": [
        {
          "output_type": "stream",
          "name": "stdout",
          "text": [
            "2.718281828459045\n"
          ]
        }
      ]
    },
    {
      "cell_type": "code",
      "source": [
        "x = 0.5\n",
        "print(math.cosh(x))\n",
        "print(math.sinh(x))\n",
        "print(math.tanh(x))\n",
        "print(math.acos(x))\n",
        "print(math.acosh(x))\n",
        "print(math.asin(x))\n",
        "print(math.asinh(x))\n",
        "print(math.atan(x))\n",
        "print(math.atan2(x))\n",
        "print(math.atanh(x))\t#Returns the inverse hyperbolic tangent of a number\n",
        "print(math.ceil(x))\t#Rounds a number up to the nearest integer\n",
        "print(math.comb(x))\t#Returns the number of ways to choose k items from n items without repetition and order\n",
        "print(math.copysign(x))\t#Returns a float consisting of the value of the first parameter and the sign of the second parameter\n",
        "print(math.cos(x))\t#Returns the cosine of a number\n",
        "print(math.cosh(X))\t#Returns the hyperbolic cosine of a number\n",
        "print(math.degrees(x))\t#Converts an angle from radians to degrees\n",
        "print(math.dist(x))\t#Returns the Euclidean distance between two points (p and q), where p and q are the coordinates of that point\n",
        "print(math.erf(x))\t#Returns the error function of a number\n",
        "print(math.erfc(x))\t#Returns the complementary error function of a number\n",
        "print(math.exp(x))\t#Returns E raised to the power of x\n",
        "print(math.expm1(x))\t#Returns Ex - 1\n",
        "print(math.fabs(x))\t#Returns the absolute value of a number\n",
        "print(math.factorial(x))\t#Returns the factorial of a number\n",
        "print(math.floor(x))\t#Rounds a number down to the nearest integer\n",
        "print(math.fmod(x))#\tReturns the remainder of x/y\n",
        "print(math.frexp(x))#Returns the mantissa and the exponent, of a specified number\n",
        "print(math.fsum(x))#\tReturns the sum of all items in any iterable (tuples, arrays, lists, etc.)\n",
        "print(math.gamma(x)\t)#Returns the gamma function at x\n",
        "print(math.gcd(x)\t)#Returns the greatest common divisor of two integers\n",
        "print(math.hypot(x))#\tReturns the Euclidean norm\n",
        "print(math.isclose(x))#\tChecks whether two values are close to each other, or not\n",
        "print(math.isfinite(x))#\tChecks whether a number is finite or not\n",
        "print(math.isinf(x))#\tChecks whether a number is infinite or not\n",
        "print(math.isnan(x))#\tChecks whether a value is NaN (not a number) or not\n",
        "print(math.isqrt(x))#\tRounds a square root number downwards to the nearest integer\n",
        "print(math.ldexp(x))#\tReturns the inverse of math.frexp() which is x * (2**i) of the given numbers x and i\n",
        "print(math.lgamma(x))#\tReturns the log gamma value of x\n",
        "print(math.log(x))\t#Returns the natural logarithm of a number, or the logarithm of number to base\n",
        "print(math.log10(x))\t#Returns the base-10 logarithm of x\n",
        "print(math.log1p(x))\t#Returns the natural logarithm of 1+x\n",
        "print(math.log2(x))\t#Returns the base-2 logarithm of x\n",
        "print(math.perm(x))\t#Returns the number of ways to choose k items from n items with order and without repetition\n",
        "print(math.prod(x))\t#Returns the product of all the elements in an iterable\n",
        "print(math.radians(x))\n",
        "print(math.remainder(x))\n"
      ],
      "metadata": {
        "id": "UB-h6AMtb4nH"
      },
      "execution_count": null,
      "outputs": []
    },
    {
      "cell_type": "markdown",
      "source": [
        "**Datetime Colab Notebook**"
      ],
      "metadata": {
        "id": "UXWgkBh7f_wR"
      }
    },
    {
      "cell_type": "code",
      "source": [
        "import datetime\n",
        "\n",
        "x = datetime.datetime.now()\n",
        "print(x)"
      ],
      "metadata": {
        "id": "Hs2paGozgX7K"
      },
      "execution_count": null,
      "outputs": []
    },
    {
      "cell_type": "code",
      "source": [
        "import datetime\n",
        "\n",
        "x = datetime.datetime.now()\n",
        "\n",
        "print(x.year)\n",
        "print(x.strftime(\"%A\"))"
      ],
      "metadata": {
        "id": "ghxW6uzEgZVR"
      },
      "execution_count": null,
      "outputs": []
    },
    {
      "cell_type": "code",
      "source": [
        "import datetime\n",
        "\n",
        "x = datetime.datetime(2020, 5, 17)\n",
        "\n",
        "print(x)"
      ],
      "metadata": {
        "id": "vtGFyKrjgjVK"
      },
      "execution_count": null,
      "outputs": []
    },
    {
      "cell_type": "code",
      "source": [
        "import datetime\n",
        "\n",
        "x = datetime.datetime(2018, 6, 1)\n",
        "\n",
        "print(x.strftime(\"%B\"))"
      ],
      "metadata": {
        "id": "3bvTDPQ2gkdP"
      },
      "execution_count": null,
      "outputs": []
    }
  ]
}