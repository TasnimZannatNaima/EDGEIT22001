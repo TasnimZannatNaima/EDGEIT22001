{
  "nbformat": 4,
  "nbformat_minor": 0,
  "metadata": {
    "colab": {
      "provenance": [],
      "authorship_tag": "ABX9TyOhBjCff6/Y+x51wme4rARB",
      "include_colab_link": true
    },
    "kernelspec": {
      "name": "python3",
      "display_name": "Python 3"
    },
    "language_info": {
      "name": "python"
    }
  },
  "cells": [
    {
      "cell_type": "markdown",
      "metadata": {
        "id": "view-in-github",
        "colab_type": "text"
      },
      "source": [
        "<a href=\"https://colab.research.google.com/github/TasnimZannatNaima/EDGEIT22001/blob/main/naima_8JAN.ipynb\" target=\"_parent\"><img src=\"https://colab.research.google.com/assets/colab-badge.svg\" alt=\"Open In Colab\"/></a>"
      ]
    },
    {
      "cell_type": "markdown",
      "source": [
        "**Python OOPs Concepts**"
      ],
      "metadata": {
        "id": "MaXCS5S5W_pP"
      }
    },
    {
      "cell_type": "markdown",
      "source": [
        "*Creating Class:"
      ],
      "metadata": {
        "id": "bm2N9_mpXRDm"
      }
    },
    {
      "cell_type": "code",
      "execution_count": null,
      "metadata": {
        "id": "5h6dGuKlWszs"
      },
      "outputs": [],
      "source": [
        "class Dog:\n",
        "    species = \"Canine\"  # Class attribute\n",
        "\n",
        "    def __init__(self, name, age):\n",
        "        self.name = name  # Instance attribute\n",
        "        self.age = age  # Instance attribute\n"
      ]
    },
    {
      "cell_type": "markdown",
      "source": [
        "*creating OBject:"
      ],
      "metadata": {
        "id": "0KwQ6hbQXles"
      }
    },
    {
      "cell_type": "code",
      "source": [
        "class Dog:\n",
        "    species = \"Canine\"  # Class attribute\n",
        "\n",
        "    def __init__(self, name, age):\n",
        "        self.name = name  # Instance attribute\n",
        "        self.age = age  # Instance attribute\n",
        "\n",
        "# Creating an object of the Dog class\n",
        "dog1 = Dog(\"Buddy\", 3)\n",
        "\n",
        "print(dog1.name)\n",
        "print(dog1.species)"
      ],
      "metadata": {
        "id": "6M3NcpZGXuDC"
      },
      "execution_count": null,
      "outputs": []
    },
    {
      "cell_type": "markdown",
      "source": [
        "*Self Parameter:"
      ],
      "metadata": {
        "id": "3qvMvc61XzK8"
      }
    },
    {
      "cell_type": "code",
      "source": [
        "class Dog:\n",
        "    def bark(self):\n",
        "        print(self.name)\n",
        "\n",
        "dog1 = Dog(\"Buddy\", 3)\n",
        "dog1.bark()"
      ],
      "metadata": {
        "id": "YBGQOb9bX-C2"
      },
      "execution_count": null,
      "outputs": []
    },
    {
      "cell_type": "markdown",
      "source": [
        "* __init__ Method:"
      ],
      "metadata": {
        "id": "x1NCwP6yYASa"
      }
    },
    {
      "cell_type": "code",
      "source": [
        "class Dog:\n",
        "    def __init__(self, name, age):\n",
        "        self.name = name\n",
        "        self.age = age\n",
        "\n",
        "dog1 = Dog(\"Buddy\", 3)\n",
        "print(dog1.name)"
      ],
      "metadata": {
        "id": "-3CV2Bu0YJhY"
      },
      "execution_count": null,
      "outputs": []
    },
    {
      "cell_type": "markdown",
      "source": [
        "*Instance Variable:"
      ],
      "metadata": {
        "id": "bCdgMnvJYXv3"
      }
    },
    {
      "cell_type": "code",
      "source": [
        "class Dog:\n",
        "    # Class variable\n",
        "    species = \"Canine\"\n",
        "\n",
        "    def __init__(self, name, age):\n",
        "        # Instance variables\n",
        "        self.name = name\n",
        "        self.age = age\n",
        "\n",
        "# Create objects\n",
        "dog1 = Dog(\"Buddy\", 3)\n",
        "dog2 = Dog(\"Charlie\", 5)\n",
        "\n",
        "# Access class and instance variables\n",
        "print(dog1.species)  # (Class variable)\n",
        "print(dog1.name)     # (Instance variable)\n",
        "print(dog2.name)     # (Instance variable)\n",
        "\n",
        "# Modify instance variables\n",
        "dog1.name = \"Max\"\n",
        "print(dog1.name)     # (Updated instance variable)\n",
        "\n",
        "# Modify class variable\n",
        "Dog.species = \"Feline\"\n",
        "print(dog1.species)  # (Updated class variable)\n",
        "print(dog2.species)"
      ],
      "metadata": {
        "id": "IueKWg1xYlo5"
      },
      "execution_count": null,
      "outputs": []
    },
    {
      "cell_type": "markdown",
      "source": [
        "**Python Inheritance**"
      ],
      "metadata": {
        "id": "TfoFXcxIYvcJ"
      }
    },
    {
      "cell_type": "code",
      "source": [
        "# Single Inheritance\n",
        "class Dog:\n",
        "    def __init__(self, name):\n",
        "        self.name = name\n",
        "\n",
        "    def display_name(self):\n",
        "        print(f\"Dog's Name: {self.name}\")\n",
        "\n",
        "class Labrador(Dog):  # Single Inheritance\n",
        "    def sound(self):\n",
        "        print(\"Labrador woofs\")\n",
        "\n",
        "# Multilevel Inheritance\n",
        "class GuideDog(Labrador):  # Multilevel Inheritance\n",
        "    def guide(self):\n",
        "        print(f\"{self.name}Guides the way!\")\n",
        "\n",
        "# Multiple Inheritance\n",
        "class Friendly:\n",
        "    def greet(self):\n",
        "        print(\"Friendly!\")\n",
        "\n",
        "class GoldenRetriever(Dog, Friendly):  # Multiple Inheritance\n",
        "    def sound(self):\n",
        "        print(\"Golden Retriever Barks\")\n",
        "\n",
        "# Example Usage\n",
        "lab = Labrador(\"Buddy\")\n",
        "lab.display_name()\n",
        "lab.sound()\n",
        "\n",
        "guide_dog = GuideDog(\"Max\")\n",
        "guide_dog.display_name()\n",
        "guide_dog.guide()\n",
        "\n",
        "retriever = GoldenRetriever(\"Charlie\")\n",
        "retriever.display_name()\n",
        "retriever.greet()\n",
        "retriever.sound()"
      ],
      "metadata": {
        "id": "n-ffo96UY4SF"
      },
      "execution_count": null,
      "outputs": []
    },
    {
      "cell_type": "markdown",
      "source": [
        "**Python Polymorphism**"
      ],
      "metadata": {
        "id": "mqdQ1sg_Y-1o"
      }
    },
    {
      "cell_type": "code",
      "source": [
        "# Parent Class\n",
        "class Dog:\n",
        "    def sound(self):\n",
        "        print(\"dog sound\")  # Default implementation\n",
        "\n",
        "# Run-Time Polymorphism: Method Overriding\n",
        "class Labrador(Dog):\n",
        "    def sound(self):\n",
        "        print(\"Labrador woofs\")  # Overriding parent method\n",
        "\n",
        "class Beagle(Dog):\n",
        "    def sound(self):\n",
        "        print(\"Beagle Barks\")  # Overriding parent method\n",
        "\n",
        "# Compile-Time Polymorphism: Method Overloading Mimic\n",
        "class Calculator:\n",
        "    def add(self, a, b=0, c=0):\n",
        "        return a + b + c  # Supports multiple ways to call add()\n",
        "\n",
        "# Run-Time Polymorphism\n",
        "dogs = [Dog(), Labrador(), Beagle()]\n",
        "for dog in dogs:\n",
        "    dog.sound()  # Calls the appropriate method based on the object type\n",
        "\n",
        "\n",
        "# Compile-Time Polymorphism (Mimicked using default arguments)\n",
        "calc = Calculator()\n",
        "print(calc.add(5, 10))  # Two arguments\n",
        "print(calc.add(5, 10, 15))  # Three arguments"
      ],
      "metadata": {
        "id": "1-uv6gP4ZEM-"
      },
      "execution_count": null,
      "outputs": []
    },
    {
      "cell_type": "markdown",
      "source": [
        "**Python Encapsulation**"
      ],
      "metadata": {
        "id": "HN283Oy3ZMWp"
      }
    },
    {
      "cell_type": "code",
      "source": [
        "class Dog:\n",
        "    def __init__(self, name, breed, age):\n",
        "        self.name = name  # Public attribute\n",
        "        self._breed = breed  # Protected attribute\n",
        "        self.__age = age  # Private attribute\n",
        "\n",
        "    # Public method\n",
        "    def get_info(self):\n",
        "        return f\"Name: {self.name}, Breed: {self._breed}, Age: {self.__age}\"\n",
        "\n",
        "    # Getter and Setter for private attribute\n",
        "    def get_age(self):\n",
        "        return self.__age\n",
        "\n",
        "    def set_age(self, age):\n",
        "        if age > 0:\n",
        "            self.__age = age\n",
        "        else:\n",
        "            print(\"Invalid age!\")\n",
        "\n",
        "# Example Usage\n",
        "dog = Dog(\"Buddy\", \"Labrador\", 3)\n",
        "\n",
        "# Accessing public member\n",
        "print(dog.name)  # Accessible\n",
        "\n",
        "# Accessing protected member\n",
        "print(dog._breed)  # Accessible but discouraged outside the class\n",
        "\n",
        "# Accessing private member using getter\n",
        "print(dog.get_age())\n",
        "\n",
        "# Modifying private member using setter\n",
        "dog.set_age(5)\n",
        "print(dog.get_info())"
      ],
      "metadata": {
        "id": "jline2HUZQyd"
      },
      "execution_count": null,
      "outputs": []
    },
    {
      "cell_type": "markdown",
      "source": [
        "**Data Abstraction**"
      ],
      "metadata": {
        "id": "uGRMpSE0ZYMW"
      }
    },
    {
      "cell_type": "code",
      "source": [
        "from abc import ABC, abstractmethod\n",
        "\n",
        "class Dog(ABC):  # Abstract Class\n",
        "    def __init__(self, name):\n",
        "        self.name = name\n",
        "\n",
        "    @abstractmethod\n",
        "    def sound(self):  # Abstract Method\n",
        "        pass\n",
        "\n",
        "    def display_name(self):  # Concrete Method\n",
        "        print(f\"Dog's Name: {self.name}\")\n",
        "\n",
        "class Labrador(Dog):  # Partial Abstraction\n",
        "    def sound(self):\n",
        "        print(\"Labrador Woof!\")\n",
        "\n",
        "class Beagle(Dog):  # Partial Abstraction\n",
        "    def sound(self):\n",
        "        print(\"Beagle Bark!\")\n",
        "\n",
        "# Example Usage\n",
        "dogs = [Labrador(\"Buddy\"), Beagle(\"Charlie\")]\n",
        "for dog in dogs:\n",
        "    dog.display_name()  # Calls concrete method\n",
        "    dog.sound()  # Calls implemented abstract method"
      ],
      "metadata": {
        "id": "qfVXuzoMZboD"
      },
      "execution_count": null,
      "outputs": []
    }
  ]
}