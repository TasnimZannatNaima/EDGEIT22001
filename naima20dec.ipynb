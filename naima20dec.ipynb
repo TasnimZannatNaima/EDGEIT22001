{
  "nbformat": 4,
  "nbformat_minor": 0,
  "metadata": {
    "colab": {
      "provenance": [],
      "authorship_tag": "ABX9TyPMCUdVH+d4eB573kZRvCg/",
      "include_colab_link": true
    },
    "kernelspec": {
      "name": "python3",
      "display_name": "Python 3"
    },
    "language_info": {
      "name": "python"
    }
  },
  "cells": [
    {
      "cell_type": "markdown",
      "metadata": {
        "id": "view-in-github",
        "colab_type": "text"
      },
      "source": [
        "<a href=\"https://colab.research.google.com/github/TasnimZannatNaima/EDGEIT22001/blob/main/naima20dec.ipynb\" target=\"_parent\"><img src=\"https://colab.research.google.com/assets/colab-badge.svg\" alt=\"Open In Colab\"/></a>"
      ]
    },
    {
      "cell_type": "markdown",
      "source": [
        "**Python Casting:**"
      ],
      "metadata": {
        "id": "PlxvwcQ-oowb"
      }
    },
    {
      "cell_type": "code",
      "execution_count": null,
      "metadata": {
        "colab": {
          "base_uri": "https://localhost:8080/"
        },
        "id": "JLqCmdKXoh2s",
        "outputId": "146f98f4-e4ef-426a-ff2b-a612948ea9af"
      },
      "outputs": [
        {
          "output_type": "stream",
          "name": "stdout",
          "text": [
            "1\n",
            "2\n",
            "3\n",
            "1.0\n",
            "2.8\n",
            "3.0\n",
            "s1\n",
            "2\n",
            "3.0\n"
          ]
        }
      ],
      "source": [
        "x = int(1)\n",
        "y = int(2.8)\n",
        "z = int(\"3\")\n",
        "x1 = float(1)     # x will be 1.0\n",
        "y1= float(2.8)   # y will be 2.8\n",
        "z1 = float(\"3\")   # z will be 3.0\n",
        "x2 = str(\"s1\") # x will be 's1'\n",
        "y2 = str(2)    # y will be '2'\n",
        "z2 = str(3.0)  # z will be '3.0'\n",
        "print(x)\n",
        "print(y)\n",
        "print(z)\n",
        "print(x1)\n",
        "print(y1)\n",
        "print(z1)\n",
        "print(x2)\n",
        "print(y2)\n",
        "print(z2)\n"
      ]
    },
    {
      "cell_type": "markdown",
      "source": [
        "**Python String**"
      ],
      "metadata": {
        "id": "clmSC5VXp-xl"
      }
    },
    {
      "cell_type": "code",
      "source": [
        "print(\"Hello\")\n",
        "print('Hello')\n",
        "print(\"It's alright\")\n",
        "print(\"He is called 'Johnny'\")\n",
        "print('He is called \"Johnny\"')\n",
        "a = \"Hello\"\n",
        "print(a)\n",
        "a1 = \"\"\"Lorem ipsum dolor sit amet,\n",
        "consectetur adipiscing elit,\n",
        "sed do eiusmod tempor incididunt\n",
        "ut labore et dolore magna aliqua.\"\"\"\n",
        "print(a1)\n",
        "a2 = '''Lorem ipsum dolor sit amet,\n",
        "consectetur adipiscing elit,\n",
        "sed do eiusmod tempor incididunt\n",
        "ut labore et dolore magna aliqua.'''\n",
        "print(a2)"
      ],
      "metadata": {
        "id": "Xcs33GZ3qKeP"
      },
      "execution_count": null,
      "outputs": []
    },
    {
      "cell_type": "markdown",
      "source": [
        "*Array String:"
      ],
      "metadata": {
        "id": "vaMYfU5gq6MH"
      }
    },
    {
      "cell_type": "code",
      "source": [
        "a = \"Hello, World!\"\n",
        "print(a[1])\n",
        "\n",
        "\n"
      ],
      "metadata": {
        "id": "kPS7AzoWqw--"
      },
      "execution_count": null,
      "outputs": []
    },
    {
      "cell_type": "markdown",
      "source": [
        "*Looping Through a String:"
      ],
      "metadata": {
        "id": "yV9dZS8krCDj"
      }
    },
    {
      "cell_type": "code",
      "source": [
        "for x in \"banana\":\n",
        "  print(x)"
      ],
      "metadata": {
        "id": "vhA_NQyTrHwA"
      },
      "execution_count": null,
      "outputs": []
    },
    {
      "cell_type": "markdown",
      "source": [
        "*String Length"
      ],
      "metadata": {
        "id": "5pV_4vccrNVb"
      }
    },
    {
      "cell_type": "code",
      "source": [
        "a = \"Hello, World!\"\n",
        "print(len(a))"
      ],
      "metadata": {
        "id": "aj-pVUmarQ5n"
      },
      "execution_count": null,
      "outputs": []
    },
    {
      "cell_type": "markdown",
      "source": [
        "Check String:"
      ],
      "metadata": {
        "id": "lDF0unphrWIo"
      }
    },
    {
      "cell_type": "code",
      "source": [
        "txt = \"The best things in life are free!\"\n",
        "print(\"free\" in txt)"
      ],
      "metadata": {
        "id": "kGkKQGE4ra21"
      },
      "execution_count": null,
      "outputs": []
    },
    {
      "cell_type": "code",
      "source": [
        "txt = \"The best things in life are free!\"\n",
        "if \"free\" in txt:\n",
        "  print(\"Yes, 'free' is present.\")"
      ],
      "metadata": {
        "id": "SsbWHunDriB4"
      },
      "execution_count": null,
      "outputs": []
    },
    {
      "cell_type": "code",
      "source": [
        "txt = \"The best things in life are free!\"\n",
        "if \"expensive\" not in txt:\n",
        "  print(\"No, 'expensive' is NOT present.\")"
      ],
      "metadata": {
        "id": "X_hU6pkUrqQT"
      },
      "execution_count": null,
      "outputs": []
    },
    {
      "cell_type": "markdown",
      "source": [
        "Python - Slicing Strings"
      ],
      "metadata": {
        "id": "XjA0p2L4sq-Y"
      }
    },
    {
      "cell_type": "code",
      "source": [
        "b = \"Hello, World!\"\n",
        "print(b[-5:-2])\n",
        "print(b[2:])\n",
        "print(b[:5])\n",
        "print(b[2:5])"
      ],
      "metadata": {
        "id": "v1T5357asula"
      },
      "execution_count": null,
      "outputs": []
    },
    {
      "cell_type": "markdown",
      "source": [
        "Python - Modify Strings"
      ],
      "metadata": {
        "id": "f2MvxF51tHvk"
      }
    },
    {
      "cell_type": "code",
      "source": [
        "a = \"Hello, World!\"\n",
        "print(a.lower())\n",
        "print(a.upper())\n",
        "print(a.strip()) # returns \"Hello, World!\"\n",
        "print(a.replace(\"H\", \"J\"))\n",
        "print(a.split(\",\")) # returns ['Hello', ' World!']"
      ],
      "metadata": {
        "id": "tJYW22QmtKHg"
      },
      "execution_count": null,
      "outputs": []
    },
    {
      "cell_type": "markdown",
      "source": [
        "Python - String Concatenation"
      ],
      "metadata": {
        "id": "5Qa6B_tWuJ4_"
      }
    },
    {
      "cell_type": "code",
      "source": [
        "a = \"Hello\"\n",
        "b = \"World\"\n",
        "c1 = a + b\n",
        "print(c1)\n",
        "c2 = a + \" \" + b\n",
        "print(c2)"
      ],
      "metadata": {
        "id": "r-QagAM3uGVE"
      },
      "execution_count": null,
      "outputs": []
    },
    {
      "cell_type": "markdown",
      "source": [
        "Python - Format - Strings"
      ],
      "metadata": {
        "id": "EzXqHCEiuete"
      }
    },
    {
      "cell_type": "code",
      "source": [
        "age = 36\n",
        "txt = f\"My name is John, I am {age}\"\n",
        "print(txt)"
      ],
      "metadata": {
        "id": "40yQm-BhufuE"
      },
      "execution_count": null,
      "outputs": []
    },
    {
      "cell_type": "code",
      "source": [
        "age = 36\n",
        "txt = f\"My name is John, I am {age}\"\n",
        "print(txt)"
      ],
      "metadata": {
        "id": "VWgr56hqup_b"
      },
      "execution_count": null,
      "outputs": []
    },
    {
      "cell_type": "code",
      "source": [
        "price = 59\n",
        "txt = f\"The price is {price:.2f} dollars\"\n",
        "print(txt)"
      ],
      "metadata": {
        "id": "Ua6gIPGUutEF"
      },
      "execution_count": null,
      "outputs": []
    },
    {
      "cell_type": "code",
      "source": [
        "txt = f\"The price is {20 * 59} dollars\"\n",
        "print(txt)"
      ],
      "metadata": {
        "id": "JmkIo3x2uv1I"
      },
      "execution_count": null,
      "outputs": []
    },
    {
      "cell_type": "markdown",
      "source": [
        "Python - Escape Characters"
      ],
      "metadata": {
        "id": "Ht-e0p5mu1oY"
      }
    },
    {
      "cell_type": "code",
      "source": [
        "txt = \"We are the so-called \\\"Vikings\\\" from the north.\"\n",
        "print(txt)\n"
      ],
      "metadata": {
        "id": "6_nJYB6Nu8wH"
      },
      "execution_count": null,
      "outputs": []
    },
    {
      "cell_type": "markdown",
      "source": [
        "**Python Operators**"
      ],
      "metadata": {
        "id": "whUlQodFvOTq"
      }
    },
    {
      "cell_type": "code",
      "source": [
        "print(10 + 5)\n",
        "print(10 - 5)\n",
        "print(10 * 5)\n",
        "print(10 / 5)\n",
        "print(10 % 5)\n",
        "print(10 ** 5)\n",
        "print(10 // 5)\n",
        "print(5 + 4 - 7 + 3)\n",
        "print((6 + 3) - (6 + 3))\n",
        "print(100 + 5 * 3)"
      ],
      "metadata": {
        "id": "hb2qcac2vR1Y"
      },
      "execution_count": null,
      "outputs": []
    }
  ]
}