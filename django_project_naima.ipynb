{
  "nbformat": 4,
  "nbformat_minor": 0,
  "metadata": {
    "colab": {
      "provenance": [],
      "authorship_tag": "ABX9TyPfm2NRDhLvVyO14eNmbCwQ",
      "include_colab_link": true
    },
    "kernelspec": {
      "name": "python3",
      "display_name": "Python 3"
    },
    "language_info": {
      "name": "python"
    }
  },
  "cells": [
    {
      "cell_type": "markdown",
      "metadata": {
        "id": "view-in-github",
        "colab_type": "text"
      },
      "source": [
        "<a href=\"https://colab.research.google.com/github/TasnimZannatNaima/EDGEIT22001/blob/main/django_project_naima.ipynb\" target=\"_parent\"><img src=\"https://colab.research.google.com/assets/colab-badge.svg\" alt=\"Open In Colab\"/></a>"
      ]
    },
    {
      "cell_type": "markdown",
      "source": [
        "**Event Countdown Timer using Django**\n",
        "\n",
        "An event countdown timer using Django in Python can be created by storing the event's datetime in a Django model and using JavaScript to display a live countdown on a web page based on the current time and the event's datetime.\n",
        "\n",
        "**Setting Up the Project Folder**\n",
        "\n",
        "To start the project use this command:\n",
        "\n",
        "\n",
        "```\n",
        "django-admin startproject core\n",
        "cd core\n",
        "```\n",
        "To start the app use this command:\n",
        "\n",
        "\n",
        "```\n",
        "python manage.py startapp home\n",
        "```\n",
        "Now add this app to the ‘settings.py’\n",
        "\n",
        "\n",
        "```\n",
        "INSTALLED_APPS = [\n",
        "    \"django.contrib.admin\",\n",
        "    \"django.contrib.auth\",\n",
        "    \"django.contrib.contenttypes\",\n",
        "    \"django.contrib.sessions\",\n",
        "    \"django.contrib.messages\",\n",
        "    \"django.contrib.staticfiles\",\n",
        "    \"home\",\n",
        "]\n",
        "```\n",
        "\n",
        "\n",
        "**Setting Necessary Files**\n",
        "core/models.py: Here we have created an Event table with name, and event_date field in the table.\n",
        "\n",
        "\n",
        "\n",
        "\n"
      ],
      "metadata": {
        "id": "E7L43mJWhcX8"
      }
    },
    {
      "cell_type": "code",
      "execution_count": null,
      "metadata": {
        "id": "FzRIANcGeSp4"
      },
      "outputs": [],
      "source": [
        "from django.contrib import admin\n",
        "from .models import Event\n",
        "\n",
        "# Register your models here.\n",
        "admin.site.register(Event\n"
      ]
    },
    {
      "cell_type": "markdown",
      "source": [
        "**core/views.py** : In below code view fetches the first Event object, calculates the time remaining until its event date, and formats it into hours, minutes, and seconds. If no event exists, it renders 'No Event' with all time values set to zero. Finally, it passes the data to the 'myapp.html' template for rendering."
      ],
      "metadata": {
        "id": "knUxwirQhZso"
      }
    },
    {
      "cell_type": "code",
      "source": [
        "from django.shortcuts import render\n",
        "\n",
        "# Create your views here.\n",
        "from django.utils import timezone\n",
        "from .models import Event  # Import the Event model from your app\n",
        "\n",
        "def countdown_timer(request):\n",
        "    event = Event.objects.first()  # Retrieve the first Event object\n",
        "    if event:\n",
        "        time_remaining = event.event_date - timezone.now()  # Calculate time remaining\n",
        "        hours = time_remaining.seconds // 3600\n",
        "        minutes = (time_remaining.seconds % 3600) // 60\n",
        "        seconds = time_remaining.seconds % 60\n",
        "        data = {\n",
        "            'name': event.name,\n",
        "            'hours': hours,\n",
        "            'minutes': minutes,\n",
        "            'seconds': seconds\n",
        "        }\n",
        "    else:\n",
        "        data = {\n",
        "            'name': \"No Event\",\n",
        "            'hours': 0,\n",
        "            'minutes': 0,\n",
        "            'seconds': 0\n",
        "        }\n",
        "    return render(request, 'myapp.html', {'data': data})"
      ],
      "metadata": {
        "id": "vocTIv3vjoiF"
      },
      "execution_count": null,
      "outputs": []
    },
    {
      "cell_type": "markdown",
      "source": [
        "**core/urls.py :** Below Django urlpatterns configuration sets up routes for accessing the admin interface and includes routes defined in the 'home' app."
      ],
      "metadata": {
        "id": "W-xH4yDRjyJF"
      }
    },
    {
      "cell_type": "code",
      "source": [
        "from django.contrib import admin\n",
        "from django.urls import path, include\n",
        "\n",
        "urlpatterns = [\n",
        "    path('admin/', admin.site.urls),\n",
        "    path('', include('home.urls'))\n",
        "\n",
        "]"
      ],
      "metadata": {
        "id": "fSZoCgGEj3aV"
      },
      "execution_count": null,
      "outputs": []
    },
    {
      "cell_type": "markdown",
      "source": [
        "**home/urls.py :** Below urlpatterns configuration maps the root URL to the countdown_timer view function from the current application, with the name 'countdown_timer'."
      ],
      "metadata": {
        "id": "tmB6yl49j53X"
      }
    },
    {
      "cell_type": "code",
      "source": [
        "from django.urls import path\n",
        "from . import views\n",
        "\n",
        "urlpatterns = [\n",
        "    path('', views.countdown_timer, name='countdown_timer'),\n",
        "]"
      ],
      "metadata": {
        "id": "4KHZnigukDzW"
      },
      "execution_count": null,
      "outputs": []
    },
    {
      "cell_type": "markdown",
      "source": [
        "**Creating GUI our Project**\n",
        "\n",
        "\n",
        "**home/templates/myapp.html:** This page will show the timer and event name."
      ],
      "metadata": {
        "id": "hww_ldXYkI6X"
      }
    },
    {
      "cell_type": "code",
      "source": [
        "<!DOCTYPE html>\n",
        "<html lang=\"en\">\n",
        "<head>\n",
        "    <meta charset=\"UTF-8\">\n",
        "    <title>Event Countdown Timer</title>\n",
        "    <style>\n",
        "        body {\n",
        "            font-family: Arial, sans-serif;\n",
        "            text-align: center;\n",
        "            background-color: #f4f4f4;\n",
        "        }\n",
        "\n",
        "        h1 {\n",
        "            color: #333;\n",
        "        }\n",
        "\n",
        "        #timer {\n",
        "            background-color: #fff;\n",
        "            border-radius: 5px;\n",
        "            box-shadow: 0 0 10px rgba(0, 0, 0, 0.1);\n",
        "            padding: 20px;\n",
        "            margin: 20px auto;\n",
        "            max-width: 300px;\n",
        "        }\n",
        "\n",
        "        #countdown {\n",
        "            font-size: 24px;\n",
        "            font-weight: bold;\n",
        "            color: #e44d26;\n",
        "        }\n",
        "\n",
        "        #event {\n",
        "            font-size: 34px;\n",
        "            font-weight: bold;\n",
        "            color: #221d1c;\n",
        "        }\n",
        "    </style>\n",
        "</head>\n",
        "<body>\n",
        "    <h1>Event Countdown Timer</h1>\n",
        "    <div id=\"timer\">\n",
        "        <h3 id=\"event\">{{ data.name }}</h3>\n",
        "        <h2>Time Remaining:</h2>\n",
        "        <div id=\"countdown\">\n",
        "            {{ data.hours|stringformat:\"02d\" }} : {{ data.minutes|stringformat:\"02d\" }} : {{ data.seconds|stringformat:\"02d\" }}\n",
        "        </div>\n",
        "    </div>\n",
        "\n",
        "    <script>\n",
        "        // Function to update the countdown timer\n",
        "        function updateTimer() {\n",
        "            var hours = parseInt(document.getElementById('countdown').textContent.split(':')[0]);\n",
        "            var minutes = parseInt(document.getElementById('countdown').textContent.split(':')[1]);\n",
        "            var seconds = parseInt(document.getElementById('countdown').textContent.split(':')[2]);\n",
        "\n",
        "            if (seconds > 0) {\n",
        "                seconds--;\n",
        "            } else {\n",
        "                if (minutes > 0) {\n",
        "                    minutes--;\n",
        "                    seconds = 59;\n",
        "                } else {\n",
        "                    if (hours > 0) {\n",
        "                        hours--;\n",
        "                        minutes = 59;\n",
        "                        seconds = 59;\n",
        "                    } else {\n",
        "                        // Timer has reached zero, you can handle this case as needed\n",
        "                    }\n",
        "                }\n",
        "            }\n",
        "\n",
        "            // Update the timer display\n",
        "            document.getElementById('countdown').textContent =\n",
        "                (hours < 10 ? '0' : '') + hours + ' : ' +\n",
        "                (minutes < 10 ? '0' : '') + minutes + ' : ' +\n",
        "                (seconds < 10 ? '0' : '') + seconds;\n",
        "        }\n",
        "\n",
        "        // Update the timer every second\n",
        "        setInterval(updateTimer, 1000);\n",
        "    </script>\n",
        "</body>\n",
        "</html>"
      ],
      "metadata": {
        "id": "_RKW8CpxkQJz"
      },
      "execution_count": null,
      "outputs": []
    },
    {
      "cell_type": "markdown",
      "source": [
        "**admin.py:**Here we are registering our models."
      ],
      "metadata": {
        "id": "h1TfpQpLkXan"
      }
    },
    {
      "cell_type": "code",
      "source": [
        "from django.contrib import admin\n",
        "from .models import Event\n",
        "\n",
        "admin.site.register(Event)"
      ],
      "metadata": {
        "id": "tQj658JMkcAN"
      },
      "execution_count": null,
      "outputs": []
    },
    {
      "cell_type": "markdown",
      "source": [
        "**Deployement of the Project**\n",
        "\n",
        "\n",
        "Run these commands to apply the migrations:\n",
        "\n",
        "\n",
        "```\n",
        "python3 manage.py makemigrations\n",
        "python3 manage.py migrate\n",
        "```\n",
        "Before running the development server, create a superuser and add an event in the Django admin panel:\n",
        "\n",
        "\n",
        "```\n",
        "python3 manage.py createsuperuser\n",
        "```\n",
        "After creating super user, go admin pannel and add event.\n",
        "![Screenshot-from-2023-10-02-18-07-06.png](data:image/png;base64,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)\n",
        "\n",
        "\n",
        "Run the server with the help of following command\n",
        "\n",
        "```\n",
        "python3 manage.py runserver\n",
        "\n",
        "```\n",
        "Output:\n",
        "\n",
        "![Screenshot-from-2023-10-02-18-06-20.png](data:image/png;base64,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)\n"
      ],
      "metadata": {
        "id": "wVJSTS-Vken-"
      }
    }
  ]
}